{
 "cells": [
  {
   "cell_type": "markdown",
   "metadata": {},
   "source": [
    "set_lists.ipynb"
   ]
  },
  {
   "cell_type": "code",
   "execution_count": 9,
   "metadata": {},
   "outputs": [],
   "source": [
    "import requests\n",
    "from bs4 import BeautifulSoup"
   ]
  },
  {
   "cell_type": "code",
   "execution_count": 12,
   "metadata": {},
   "outputs": [
    {
     "name": "stdout",
     "output_type": "stream",
     "text": [
      "Black Flag Setlist;\n",
      "1. Can't Decide\n",
      "2. Nervous Breakdown\n",
      "3. No Values\n",
      "4. I've Had It\n",
      "5. Annihilate This Week\n",
      "6. Fix Me\n",
      "7. Gimmie Gimmie Gimmie\n",
      "8. Loose Nut\n",
      "9. Six Pack\n",
      "10. Depression\n",
      "11. Slip It In\n",
      "12. I Can See You\n",
      "13. Room 13\n",
      "14. Jealous Again\n",
      "15. Black Coffee\n",
      "16. Revenge\n",
      "17. TV Party\n",
      "18. Rise Above\n",
      "19. Louie Louie\n"
     ]
    }
   ],
   "source": [
    "def get_setlist(url):\n",
    "    # Fetch the page\n",
    "    response = requests.get(url)\n",
    "    response.raise_for_status()  # Raise an HTTPError if the request was not successful\n",
    "    \n",
    "    # Parse the HTML with BeautifulSoup\n",
    "    soup = BeautifulSoup(response.text, 'html.parser')\n",
    "    \n",
    "    # The setlist items on Setlist.fm typically appear in <a> elements with class \"songLabel\"\n",
    "    songs = soup.select('a.songLabel')\n",
    "    \n",
    "    # Extract the text of each song\n",
    "    setlist = [song.get_text(strip=True) for song in songs]\n",
    "    \n",
    "    return setlist\n",
    "\n",
    "if __name__ == \"__main__\":\n",
    "    url = \"https://www.setlist.fm/setlist/black-flag/2022/house-of-blues-san-diego-ca-3befd87.html\"\n",
    "    setlist = get_setlist(url)\n",
    "    artist_name_str = \"Black Flag\"\n",
    "\n",
    "    print(f\"{artist_name_str} Setlist;\")\n",
    "    for idx, song in enumerate(setlist, start=1):\n",
    "        print(f\"{idx}. {song}\")\n"
   ]
  },
  {
   "cell_type": "code",
   "execution_count": null,
   "metadata": {},
   "outputs": [],
   "source": []
  },
  {
   "cell_type": "code",
   "execution_count": null,
   "metadata": {},
   "outputs": [],
   "source": []
  }
 ],
 "metadata": {
  "kernelspec": {
   "display_name": "x_venv",
   "language": "python",
   "name": "python3"
  },
  "language_info": {
   "codemirror_mode": {
    "name": "ipython",
    "version": 3
   },
   "file_extension": ".py",
   "mimetype": "text/x-python",
   "name": "python",
   "nbconvert_exporter": "python",
   "pygments_lexer": "ipython3",
   "version": "3.11.1"
  }
 },
 "nbformat": 4,
 "nbformat_minor": 2
}
