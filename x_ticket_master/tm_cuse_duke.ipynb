{
 "cells": [
  {
   "cell_type": "markdown",
   "metadata": {},
   "source": [
    "tm_cuse_duke.ipynb"
   ]
  },
  {
   "cell_type": "code",
   "execution_count": 1,
   "metadata": {},
   "outputs": [],
   "source": [
    "import requests\n",
    "import pandas as pd\n",
    "from dotenv import load_dotenv\n",
    "import os\n",
    "\n",
    "# Load environment variables from .env file\n",
    "load_dotenv()\n",
    "\n",
    "# Retrieve the API key from the .env file\n",
    "API_KEY = os.getenv('ticketmaster_api_key')\n",
    "# BASE_URL = 'https://app.ticketmaster.com/discovery/v2/events.json'\n",
    "BASE_URL = ''"
   ]
  },
  {
   "cell_type": "code",
   "execution_count": 3,
   "metadata": {},
   "outputs": [
    {
     "data": {
      "text/html": [
       "<div>\n",
       "<style scoped>\n",
       "    .dataframe tbody tr th:only-of-type {\n",
       "        vertical-align: middle;\n",
       "    }\n",
       "\n",
       "    .dataframe tbody tr th {\n",
       "        vertical-align: top;\n",
       "    }\n",
       "\n",
       "    .dataframe thead th {\n",
       "        text-align: right;\n",
       "    }\n",
       "</style>\n",
       "<table border=\"1\" class=\"dataframe\">\n",
       "  <thead>\n",
       "    <tr style=\"text-align: right;\">\n",
       "      <th></th>\n",
       "      <th>base_price</th>\n",
       "    </tr>\n",
       "  </thead>\n",
       "  <tbody>\n",
       "    <tr>\n",
       "      <th>0</th>\n",
       "      <td>12.5</td>\n",
       "    </tr>\n",
       "    <tr>\n",
       "      <th>1</th>\n",
       "      <td>12.5</td>\n",
       "    </tr>\n",
       "  </tbody>\n",
       "</table>\n",
       "</div>"
      ],
      "text/plain": [
       "   base_price\n",
       "0        12.5\n",
       "1        12.5"
      ]
     },
     "metadata": {},
     "output_type": "display_data"
    }
   ],
   "source": [
    "my_seats_data = [\n",
    "    {'section': '305', 'row': 'S', 'seat': '28', 'my_price': 12.50},\n",
    "    {'section': '306', 'row': 'R', 'seat': '18', 'my_price': 12.50},\n",
    "    {'section': '306', 'row': 'R', 'seat': '31', 'my_price': 12.50},\n",
    "    {'section': '306', 'row': 'R', 'seat': '32', 'my_price': 12.50},\n",
    "    {'section': '313', 'row': 'S', 'seat': '6', 'my_price': 12.50},\n",
    "    {'section': '313', 'row': 'S', 'seat': '7', 'my_price': 12.50},\n",
    "    {'section': '313', 'row': 'T', 'seat': '5', 'my_price': 12.50},\n",
    "    {'section': '313', 'row': 'T', 'seat': '6', 'my_price': 12.50},\n",
    "    {'section': '313', 'row': 'T', 'seat': '7', 'my_price': 12.50},\n",
    "    {'section': '314', 'row': 'T', 'seat': '19', 'my_price': 12.50},\n",
    "    {'section': '314', 'row': 'T', 'seat': '20', 'my_price': 12.50},\n",
    "    {'section': '314', 'row': 'U', 'seat': '17', 'my_price': 12.50},\n",
    "    {'section': '314', 'row': 'U', 'seat': '18', 'my_price': 12.50},\n",
    "    {'section': '314', 'row': 'U', 'seat': '19', 'my_price': 12.50},\n",
    "    {'section': '314', 'row': 'U', 'seat': '20', 'my_price': 12.50},\n",
    "    {'section': '315', 'row': 'R', 'seat': '14', 'my_price': 12.50},\n",
    "    {'section': '315', 'row': 'R', 'seat': '15', 'my_price': 12.50},\n",
    "    {'section': '315', 'row': 'R', 'seat': '16', 'my_price': 12.50},\n",
    "    {'section': '315', 'row': 'R', 'seat': '17', 'my_price': 12.50},\n",
    "    {'section': '315', 'row': 'S', 'seat': '13', 'my_price': 12.50},\n",
    "    {'section': '315', 'row': 'S', 'seat': '14', 'my_price': 12.50},\n",
    "    {'section': '315', 'row': 'S', 'seat': '15', 'my_price': 12.50},\n",
    "    {'section': '315', 'row': 'S', 'seat': '16', 'my_price': 12.50},\n",
    "    {'section': '315', 'row': 'S', 'seat': '17', 'my_price': 12.50},\n",
    "    {'section': '315', 'row': 'S', 'seat': '18', 'my_price': 12.50},\n",
    "    {'section': '315', 'row': 'S', 'seat': '19', 'my_price': 12.50},\n",
    "    {'section': '315', 'row': 'U', 'seat': '3', 'my_price': 12.50},\n",
    "    {'section': '315', 'row': 'U', 'seat': '4', 'my_price': 12.50},\n",
    "    {'section': '315', 'row': 'U', 'seat': '5', 'my_price': 12.50},\n",
    "    {'section': '315', 'row': 'U', 'seat': '6', 'my_price': 12.50},\n",
    "    {'section': '315', 'row': 'U', 'seat': '11', 'my_price': 12.50},\n",
    "    {'section': '315', 'row': 'U', 'seat': '12', 'my_price': 12.50},\n",
    "    {'section': '315', 'row': 'U', 'seat': '15', 'my_price': 12.50},\n",
    "    {'section': '315', 'row': 'U', 'seat': '16', 'my_price': 12.50},\n",
    "    {'section': '315', 'row': 'U', 'seat': '19', 'my_price': 12.50},\n",
    "    {'section': '315', 'row': 'U', 'seat': '20', 'my_price': 12.50},\n",
    "    {'section': '316', 'row': 'Q', 'seat': '1', 'my_price': 12.50},\n",
    "    {'section': '316', 'row': 'Q', 'seat': '2', 'my_price': 12.50},\n",
    "    {'section': '316', 'row': 'R', 'seat': '1', 'my_price': 12.50},\n",
    "    {'section': '316', 'row': 'R', 'seat': '2', 'my_price': 12.50},\n",
    "    {'section': '316', 'row': 'R', 'seat': '3', 'my_price': 12.50},\n",
    "    {'section': '316', 'row': 'S', 'seat': '1', 'my_price': 12.50},\n",
    "    {'section': '316', 'row': 'S', 'seat': '2', 'my_price': 12.50},\n",
    "    {'section': '316', 'row': 'S', 'seat': '3', 'my_price': 12.50},\n",
    "    {'section': '316', 'row': 'T', 'seat': '1', 'my_price': 12.50},\n",
    "    {'section': '316', 'row': 'T', 'seat': '2', 'my_price': 12.50},\n",
    "    {'section': '316', 'row': 'T', 'seat': '3', 'my_price': 12.50},\n",
    "    {'section': '317', 'row': 'T', 'seat': '9', 'my_price': 12.50},\n",
    "    {'section': '317', 'row': 'T', 'seat': '10', 'my_price': 12.50},\n",
    "    {'section': '317', 'row': 'T', 'seat': '11', 'my_price': 12.50},\n",
    "    {'section': '317', 'row': 'T', 'seat': '12', 'my_price': 12.50},\n",
    "    {'section': '317', 'row': 'T', 'seat': '13', 'my_price': 12.50},\n",
    "    {'section': '317', 'row': 'T', 'seat': '14', 'my_price': 12.50},\n",
    "    {'section': '317', 'row': 'T', 'seat': '15', 'my_price': 12.50},\n",
    "    {'section': '317', 'row': 'T', 'seat': '16', 'my_price': 12.50},\n",
    "    {'section': '317', 'row': 'T', 'seat': '19', 'my_price': 12.50},\n",
    "    {'section': '317', 'row': 'T', 'seat': '20', 'my_price': 12.50},\n",
    "    {'section': '317', 'row': 'U', 'seat': '12', 'my_price': 12.50},\n",
    "    {'section': '317', 'row': 'U', 'seat': '13', 'my_price': 12.50},\n",
    "    {'section': '317', 'row': 'U', 'seat': '14', 'my_price': 12.50},\n",
    "    {'section': '317', 'row': 'U', 'seat': '15', 'my_price': 12.50},\n",
    "    {'section': '317', 'row': 'U', 'seat': '16', 'my_price': 12.50},\n",
    "    {'section': '317', 'row': 'U', 'seat': '17', 'my_price': 12.50}\n",
    "]"
   ]
  },
  {
   "cell_type": "code",
   "execution_count": null,
   "metadata": {},
   "outputs": [],
   "source": [
    "# data dictionary my seats"
   ]
  }
 ],
 "metadata": {
  "kernelspec": {
   "display_name": "x_venv",
   "language": "python",
   "name": "python3"
  },
  "language_info": {
   "codemirror_mode": {
    "name": "ipython",
    "version": 3
   },
   "file_extension": ".py",
   "mimetype": "text/x-python",
   "name": "python",
   "nbconvert_exporter": "python",
   "pygments_lexer": "ipython3",
   "version": "3.11.1"
  }
 },
 "nbformat": 4,
 "nbformat_minor": 2
}
