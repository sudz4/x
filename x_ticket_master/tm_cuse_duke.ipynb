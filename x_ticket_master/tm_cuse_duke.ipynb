{
 "cells": [
  {
   "cell_type": "markdown",
   "metadata": {},
   "source": [
    "tm_cuse_duke.ipynb"
   ]
  },
  {
   "cell_type": "code",
   "execution_count": 1,
   "metadata": {},
   "outputs": [],
   "source": [
    "import requests\n",
    "import pandas as pd\n",
    "from dotenv import load_dotenv\n",
    "import os\n",
    "\n",
    "# Load environment variables from .env file\n",
    "load_dotenv()\n",
    "\n",
    "# Retrieve the API key from the .env file\n",
    "API_KEY = os.getenv('ticketmaster_api_key')\n",
    "# BASE_URL = 'https://app.ticketmaster.com/discovery/v2/events.json'\n",
    "BASE_URL = ''"
   ]
  },
  {
   "cell_type": "code",
   "execution_count": 5,
   "metadata": {},
   "outputs": [
    {
     "name": "stdout",
     "output_type": "stream",
     "text": [
      "63\n"
     ]
    },
    {
     "data": {
      "text/html": [
       "<div>\n",
       "<style scoped>\n",
       "    .dataframe tbody tr th:only-of-type {\n",
       "        vertical-align: middle;\n",
       "    }\n",
       "\n",
       "    .dataframe tbody tr th {\n",
       "        vertical-align: top;\n",
       "    }\n",
       "\n",
       "    .dataframe thead th {\n",
       "        text-align: right;\n",
       "    }\n",
       "</style>\n",
       "<table border=\"1\" class=\"dataframe\">\n",
       "  <thead>\n",
       "    <tr style=\"text-align: right;\">\n",
       "      <th></th>\n",
       "      <th>section</th>\n",
       "      <th>row</th>\n",
       "      <th>seat</th>\n",
       "      <th>my_price</th>\n",
       "    </tr>\n",
       "  </thead>\n",
       "  <tbody>\n",
       "    <tr>\n",
       "      <th>0</th>\n",
       "      <td>305</td>\n",
       "      <td>S</td>\n",
       "      <td>28</td>\n",
       "      <td>12.5</td>\n",
       "    </tr>\n",
       "    <tr>\n",
       "      <th>1</th>\n",
       "      <td>306</td>\n",
       "      <td>R</td>\n",
       "      <td>18</td>\n",
       "      <td>12.5</td>\n",
       "    </tr>\n",
       "    <tr>\n",
       "      <th>2</th>\n",
       "      <td>306</td>\n",
       "      <td>R</td>\n",
       "      <td>31</td>\n",
       "      <td>12.5</td>\n",
       "    </tr>\n",
       "    <tr>\n",
       "      <th>3</th>\n",
       "      <td>306</td>\n",
       "      <td>R</td>\n",
       "      <td>32</td>\n",
       "      <td>12.5</td>\n",
       "    </tr>\n",
       "    <tr>\n",
       "      <th>4</th>\n",
       "      <td>313</td>\n",
       "      <td>S</td>\n",
       "      <td>6</td>\n",
       "      <td>12.5</td>\n",
       "    </tr>\n",
       "  </tbody>\n",
       "</table>\n",
       "</div>"
      ],
      "text/plain": [
       "  section row seat  my_price\n",
       "0     305   S   28      12.5\n",
       "1     306   R   18      12.5\n",
       "2     306   R   31      12.5\n",
       "3     306   R   32      12.5\n",
       "4     313   S    6      12.5"
      ]
     },
     "metadata": {},
     "output_type": "display_data"
    }
   ],
   "source": [
    "my_seats_data = [\n",
    "    {'section': '305', 'row': 'S', 'seat': '28', 'my_price': 12.50},\n",
    "    {'section': '306', 'row': 'R', 'seat': '18', 'my_price': 12.50},\n",
    "    {'section': '306', 'row': 'R', 'seat': '31', 'my_price': 12.50},\n",
    "    {'section': '306', 'row': 'R', 'seat': '32', 'my_price': 12.50},\n",
    "    {'section': '313', 'row': 'S', 'seat': '6', 'my_price': 12.50},\n",
    "    {'section': '313', 'row': 'S', 'seat': '7', 'my_price': 12.50},\n",
    "    {'section': '313', 'row': 'T', 'seat': '5', 'my_price': 12.50},\n",
    "    {'section': '313', 'row': 'T', 'seat': '6', 'my_price': 12.50},\n",
    "    {'section': '313', 'row': 'T', 'seat': '7', 'my_price': 12.50},\n",
    "    {'section': '314', 'row': 'T', 'seat': '19', 'my_price': 12.50},\n",
    "    {'section': '314', 'row': 'T', 'seat': '20', 'my_price': 12.50},\n",
    "    {'section': '314', 'row': 'U', 'seat': '17', 'my_price': 12.50},\n",
    "    {'section': '314', 'row': 'U', 'seat': '18', 'my_price': 12.50},\n",
    "    {'section': '314', 'row': 'U', 'seat': '19', 'my_price': 12.50},\n",
    "    {'section': '314', 'row': 'U', 'seat': '20', 'my_price': 12.50},\n",
    "    {'section': '315', 'row': 'R', 'seat': '14', 'my_price': 12.50},\n",
    "    {'section': '315', 'row': 'R', 'seat': '15', 'my_price': 12.50},\n",
    "    {'section': '315', 'row': 'R', 'seat': '16', 'my_price': 12.50},\n",
    "    {'section': '315', 'row': 'R', 'seat': '17', 'my_price': 12.50},\n",
    "    {'section': '315', 'row': 'S', 'seat': '13', 'my_price': 12.50},\n",
    "    {'section': '315', 'row': 'S', 'seat': '14', 'my_price': 12.50},\n",
    "    {'section': '315', 'row': 'S', 'seat': '15', 'my_price': 12.50},\n",
    "    {'section': '315', 'row': 'S', 'seat': '16', 'my_price': 12.50},\n",
    "    {'section': '315', 'row': 'S', 'seat': '17', 'my_price': 12.50},\n",
    "    {'section': '315', 'row': 'S', 'seat': '18', 'my_price': 12.50},\n",
    "    {'section': '315', 'row': 'S', 'seat': '19', 'my_price': 12.50},\n",
    "    {'section': '315', 'row': 'U', 'seat': '3', 'my_price': 12.50},\n",
    "    {'section': '315', 'row': 'U', 'seat': '4', 'my_price': 12.50},\n",
    "    {'section': '315', 'row': 'U', 'seat': '5', 'my_price': 12.50},\n",
    "    {'section': '315', 'row': 'U', 'seat': '6', 'my_price': 12.50},\n",
    "    {'section': '315', 'row': 'U', 'seat': '11', 'my_price': 12.50},\n",
    "    {'section': '315', 'row': 'U', 'seat': '12', 'my_price': 12.50},\n",
    "    {'section': '315', 'row': 'U', 'seat': '15', 'my_price': 12.50},\n",
    "    {'section': '315', 'row': 'U', 'seat': '16', 'my_price': 12.50},\n",
    "    {'section': '315', 'row': 'U', 'seat': '19', 'my_price': 12.50},\n",
    "    {'section': '315', 'row': 'U', 'seat': '20', 'my_price': 12.50},\n",
    "    {'section': '316', 'row': 'Q', 'seat': '1', 'my_price': 12.50},\n",
    "    {'section': '316', 'row': 'Q', 'seat': '2', 'my_price': 12.50},\n",
    "    {'section': '316', 'row': 'R', 'seat': '1', 'my_price': 12.50},\n",
    "    {'section': '316', 'row': 'R', 'seat': '2', 'my_price': 12.50},\n",
    "    {'section': '316', 'row': 'R', 'seat': '3', 'my_price': 12.50},\n",
    "    {'section': '316', 'row': 'S', 'seat': '1', 'my_price': 12.50},\n",
    "    {'section': '316', 'row': 'S', 'seat': '2', 'my_price': 12.50},\n",
    "    {'section': '316', 'row': 'S', 'seat': '3', 'my_price': 12.50},\n",
    "    {'section': '316', 'row': 'T', 'seat': '1', 'my_price': 12.50},\n",
    "    {'section': '316', 'row': 'T', 'seat': '2', 'my_price': 12.50},\n",
    "    {'section': '316', 'row': 'T', 'seat': '3', 'my_price': 12.50},\n",
    "    {'section': '317', 'row': 'T', 'seat': '9', 'my_price': 12.50},\n",
    "    {'section': '317', 'row': 'T', 'seat': '10', 'my_price': 12.50},\n",
    "    {'section': '317', 'row': 'T', 'seat': '11', 'my_price': 12.50},\n",
    "    {'section': '317', 'row': 'T', 'seat': '12', 'my_price': 12.50},\n",
    "    {'section': '317', 'row': 'T', 'seat': '13', 'my_price': 12.50},\n",
    "    {'section': '317', 'row': 'T', 'seat': '14', 'my_price': 12.50},\n",
    "    {'section': '317', 'row': 'T', 'seat': '15', 'my_price': 12.50},\n",
    "    {'section': '317', 'row': 'T', 'seat': '16', 'my_price': 12.50},\n",
    "    {'section': '317', 'row': 'T', 'seat': '19', 'my_price': 12.50},\n",
    "    {'section': '317', 'row': 'T', 'seat': '20', 'my_price': 12.50},\n",
    "    {'section': '317', 'row': 'U', 'seat': '12', 'my_price': 12.50},\n",
    "    {'section': '317', 'row': 'U', 'seat': '13', 'my_price': 12.50},\n",
    "    {'section': '317', 'row': 'U', 'seat': '14', 'my_price': 12.50},\n",
    "    {'section': '317', 'row': 'U', 'seat': '15', 'my_price': 12.50},\n",
    "    {'section': '317', 'row': 'U', 'seat': '16', 'my_price': 12.50},\n",
    "    {'section': '317', 'row': 'U', 'seat': '17', 'my_price': 12.50}\n",
    "]\n",
    "\n",
    "# create my_seats_df from dictionary my_seats_data\n",
    "my_seats_df = pd.DataFrame(my_seats_data)\n",
    "# display my_seats_df\n",
    "print(len(my_seats_df))\n",
    "display(my_seats_df.head(5))"
   ]
  },
  {
   "cell_type": "code",
   "execution_count": 6,
   "metadata": {},
   "outputs": [
    {
     "name": "stdout",
     "output_type": "stream",
     "text": [
      "['305', '306', '313', '314', '315', '316', '317']\n"
     ]
    }
   ],
   "source": [
    "# return unique sections as list\n",
    "my_sections_list = my_seats_df['section'].unique().tolist()\n",
    "# display sections\n",
    "print(my_sections_list)"
   ]
  },
  {
   "cell_type": "code",
   "execution_count": null,
   "metadata": {},
   "outputs": [],
   "source": []
  }
 ],
 "metadata": {
  "kernelspec": {
   "display_name": "x_venv",
   "language": "python",
   "name": "python3"
  },
  "language_info": {
   "codemirror_mode": {
    "name": "ipython",
    "version": 3
   },
   "file_extension": ".py",
   "mimetype": "text/x-python",
   "name": "python",
   "nbconvert_exporter": "python",
   "pygments_lexer": "ipython3",
   "version": "3.11.1"
  }
 },
 "nbformat": 4,
 "nbformat_minor": 2
}
