{
 "cells": [
  {
   "cell_type": "markdown",
   "metadata": {},
   "source": [
    "ticket_master.ipynb"
   ]
  },
  {
   "cell_type": "code",
   "execution_count": 5,
   "metadata": {},
   "outputs": [
    {
     "data": {
      "text/plain": [
       "True"
      ]
     },
     "execution_count": 5,
     "metadata": {},
     "output_type": "execute_result"
    }
   ],
   "source": [
    "import pandas as pd\n",
    "from dotenv import load_dotenv\n",
    "import os\n",
    "import requests\n",
    "# timdelta\n",
    "from datetime import datetime, timedelta\n",
    "\n",
    "load_dotenv()"
   ]
  },
  {
   "cell_type": "code",
   "execution_count": 7,
   "metadata": {},
   "outputs": [
    {
     "name": "stdout",
     "output_type": "stream",
     "text": [
      "HTTP error occurred: 400\n",
      "No events or error occurred.\n"
     ]
    }
   ],
   "source": [
    "def get_sports_events_df(city=\"San Diego\"):    \n",
    "    # get api key from .env\n",
    "    api_key = os.getenv(\"ticketmaster_api_key\")\n",
    "    # set date range\n",
    "    start_date = datetime.now()\n",
    "    end_date = start_date + timedelta(days=180)  # 6 months\n",
    "    # format dates for api\n",
    "    start_str = start_date.strftime(\"%Y-%m-%dT%H:%M:%SZ\")\n",
    "    end_str = end_date.strftime(\"%Y-%m-%dT%H:%M:%SZ\")\n",
    "    # endpoint\n",
    "    url = \"https://app.ticketmaster.com/discovery/v2/events.json\"\n",
    "    # params - specifically for sports events\n",
    "    params = {\n",
    "        \"apikey\": api_key,\n",
    "        \"size\": 500,  # increased size to get more events\n",
    "        \"city\": city, \n",
    "        \"startDateTime\": start_str,\n",
    "        \"endDateTime\": end_str,\n",
    "        \"segmentName\": \"Sports\",  # Filter for sports events\n",
    "        \"sort\": \"date,asc\",\n",
    "        \"includeTBA\": \"no\",  # Exclude TBA events\n",
    "        \"includeTBD\": \"no\"   # Exclude TBD events\n",
    "    }\n",
    "    try:\n",
    "        # make api request\n",
    "        response = requests.get(url, params=params)\n",
    "        response.raise_for_status()\n",
    "        data = response.json()\n",
    "        # check for events present\n",
    "        if '_embedded' not in data or 'events' not in data['_embedded']:\n",
    "            return pd.DataFrame()  # Return empty DataFrame if no events\n",
    "\n",
    "        # extract events\n",
    "        events = data['_embedded']['events']\n",
    "        # empty list to store event data\n",
    "        event_data = []\n",
    "        # loop through events\n",
    "        for event in events:\n",
    "            # filter for events that are on sale\n",
    "            status = event.get('dates', {}).get('status', {}).get('code')\n",
    "            if status != 'onsale':\n",
    "                continue  \n",
    "\n",
    "            # extract venue info safely\n",
    "            venue_info = event.get('_embedded', {}).get('venues', [{}])[0]\n",
    "            # get more specific sports info\n",
    "            classifications = event.get('classifications', [{}])[0]\n",
    "            sport_type = classifications.get('subGenre', {}).get('name') or classifications.get('genre', {}).get('name')\n",
    "            # dictionary for each event\n",
    "            event_dict = {\n",
    "                'name': event.get('name'),\n",
    "                'date': event.get('dates', {}).get('start', {}).get('localDate'),\n",
    "                'time': event.get('dates', {}).get('start', {}).get('localTime'),\n",
    "                'venue': venue_info.get('name'),\n",
    "                'sport_type': sport_type,\n",
    "                'min_price': None,\n",
    "                'max_price': None,\n",
    "                'tickets_url': event.get('url')\n",
    "            }\n",
    "            \n",
    "            # add price min max if available\n",
    "            if 'priceRanges' in event:\n",
    "                event_dict['min_price'] = event['priceRanges'][0].get('min')\n",
    "                event_dict['max_price'] = event['priceRanges'][0].get('max')\n",
    "                \n",
    "            event_data.append(event_dict)\n",
    "\n",
    "            # filter out 'Tours'\n",
    "            event_data = [event for event in event_data if 'Tours' not in event['name']]\n",
    "        \n",
    "        # create df from event data\n",
    "        df = pd.DataFrame(event_data)\n",
    "        \n",
    "        # clean up date column\n",
    "        if not df.empty and 'date' in df.columns:\n",
    "            df['date'] = pd.to_datetime(df['date'])\n",
    "        \n",
    "        # sort by date\n",
    "        if not df.empty:\n",
    "            df = df.sort_values('date')\n",
    "\n",
    "        return df\n",
    "\n",
    "    # error handling    \n",
    "    except requests.exceptions.HTTPError as err:\n",
    "        print(f\"HTTP error occurred: {err.response.status_code}\")\n",
    "        return pd.DataFrame()\n",
    "    except Exception as err:\n",
    "        print(f\"Error occurred: {err}\")\n",
    "        return pd.DataFrame()\n",
    "\n",
    "if __name__ == \"__main__\":\n",
    "    # GET sports events DataFrame\n",
    "    sports_events_df = get_sports_events_df(\"San Diego\")\n",
    "    \n",
    "    if not sports_events_df.empty:\n",
    "        print(f\"\\nFound {len(sports_events_df)} upcoming sports events in San Diego:\")\n",
    "        display(sports_events_df)\n",
    "    else:\n",
    "        print(\"No events or error occurred.\")"
   ]
  }
 ],
 "metadata": {
  "kernelspec": {
   "display_name": "x_venv",
   "language": "python",
   "name": "python3"
  },
  "language_info": {
   "codemirror_mode": {
    "name": "ipython",
    "version": 3
   },
   "file_extension": ".py",
   "mimetype": "text/x-python",
   "name": "python",
   "nbconvert_exporter": "python",
   "pygments_lexer": "ipython3",
   "version": "3.11.1"
  }
 },
 "nbformat": 4,
 "nbformat_minor": 2
}
